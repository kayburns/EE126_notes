{
 "cells": [
  {
   "cell_type": "markdown",
   "metadata": {},
   "source": [
    "# Math Tricks Cheat Sheat"
   ]
  },
  {
   "cell_type": "markdown",
   "metadata": {},
   "source": [
    "### Taylor Series Expansion\n",
    "\n",
    "$$e^{ax} = \\sum_{i = 1}^\\infty \\frac{(ax)^i}{i!}$$"
   ]
  },
  {
   "cell_type": "markdown",
   "metadata": {
    "collapsed": true
   },
   "source": [
    "### Counting Trick for Calculating Probabilities on Graphs\n",
    "\n",
    "Assume we have an \"infection\" that spreads over a graph uniformly at random to neighbors of infected vertices.\n",
    "\n",
    "<img src=\"images/infection_graph.png\" width=\"200\">\n",
    "\n",
    "How do we calculate the probability that some subgraph is infected?\n",
    "\n",
    "Notice that the sequence of infections can be interpreted as a string (e.g. 1, 2, 4, 5, 3). All sequences have equal probability of occuring: $\\frac 1{2^l}$, where $l$ is the length of the string. So to compare the probability of some subgraph being infected given a certain starting point, we simply need to count the number of permissible strings.\n",
    "\n",
    "*Counting the Number of Permissible Strings*\n",
    "\n",
    "Observe that some strings must have some numbers come before others. Divide by the number of orderings of numbers that must obey a certain sequence (if there are more permissible orderings in that sequence of numbers, you multiply those orderings back in). "
   ]
  },
  {
   "cell_type": "code",
   "execution_count": null,
   "metadata": {
    "collapsed": true
   },
   "outputs": [],
   "source": []
  }
 ],
 "metadata": {
  "kernelspec": {
   "display_name": "Python 3",
   "language": "python",
   "name": "python3"
  },
  "language_info": {
   "codemirror_mode": {
    "name": "ipython",
    "version": 3
   },
   "file_extension": ".py",
   "mimetype": "text/x-python",
   "name": "python",
   "nbconvert_exporter": "python",
   "pygments_lexer": "ipython3",
   "version": "3.4.5"
  }
 },
 "nbformat": 4,
 "nbformat_minor": 0
}
