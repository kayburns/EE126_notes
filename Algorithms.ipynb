{
 "cells": [
  {
   "cell_type": "markdown",
   "metadata": {},
   "source": [
    "# Algorithms"
   ]
  },
  {
   "cell_type": "markdown",
   "metadata": {},
   "source": [
    "## Viterbi\n",
    "\n",
    "#### Independence Relationships in Hidden Markov Models\n",
    "\n",
    "<img src=\"images/HMM.jpg\" width=\"300\">\n",
    "\n",
    "$$\\Pr(x_0, \\ldots, x_n, y_0, \\ldots, y_n) = \\pi_0(x_0)Q(x_0, y_0)P(x_0, x_1)Q(x_1, y_1)P(x_1, x_2)\\ldots$$\n",
    "\n",
    "#### MLSE: Infer Sequence of Hidden States with MLE Using Bellman Ford\n",
    "\n",
    "We will show that finding the most likely sequence of states, $x_1, \\ldots, x_n$, using MAP is equivalent to solving a shortest paths problem.\n",
    "\n",
    "$$\\arg\\max_{X^n} f(x_0, \\ldots, x_n, y_0, \\ldots, y_n) = \\arg\\max_{X^n}\\pi_0(x_0)Q(x_0, y_0)P(x_0, x_1)\\ldots P(x_{n-1}, x_{n})Q(x_{n}, y_{n})$$\n",
    "\n",
    "$$= \\arg\\max_{X^n} \\log(\\pi_0(x_0)Q(x_0, y_0))+\\log(P(x_0, x_1)Q(x_1, y_1)) + \\ldots + \\log(P(x_{n-1}, x_{n})Q(x_{n}, y_{n}))$$\n",
    "\n",
    "$$= \\arg\\min_{X^n} - \\log(\\pi_0(x_0)Q(x_0, y_0)) - \\log(P(x_0, x_1)Q(x_1, y_1)) - \\ldots - \\log(P(x_{n-1}, x_{n})Q(x_{n}, y_{n}))$$\n",
    "\n",
    "This is just a shortest path problem on a DAG!\n",
    "\n",
    "<img src=\"images/viterbi.jpg\" width=\"300\">"
   ]
  },
  {
   "cell_type": "markdown",
   "metadata": {},
   "source": [
    "## E-M Algorithm"
   ]
  },
  {
   "cell_type": "code",
   "execution_count": null,
   "metadata": {
    "collapsed": true
   },
   "outputs": [],
   "source": []
  }
 ],
 "metadata": {
  "kernelspec": {
   "display_name": "Python 3",
   "language": "python",
   "name": "python3"
  },
  "language_info": {
   "codemirror_mode": {
    "name": "ipython",
    "version": 3
   },
   "file_extension": ".py",
   "mimetype": "text/x-python",
   "name": "python",
   "nbconvert_exporter": "python",
   "pygments_lexer": "ipython3",
   "version": "3.4.5"
  }
 },
 "nbformat": 4,
 "nbformat_minor": 0
}
